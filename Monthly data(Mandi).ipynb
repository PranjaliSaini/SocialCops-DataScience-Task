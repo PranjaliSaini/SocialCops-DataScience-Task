{
 "cells": [
  {
   "cell_type": "code",
   "execution_count": 17,
   "metadata": {},
   "outputs": [],
   "source": [
    "import numpy as np\n",
    "import pandas as pd\n",
    "from scipy.stats import iqr\n",
    "import matplotlib.pyplot as plt\n",
    "plt.rcParams['figure.figsize']=18,9\n",
    "import seaborn as sb\n",
    "from datetime import datetime"
   ]
  },
  {
   "cell_type": "code",
   "execution_count": 18,
   "metadata": {},
   "outputs": [],
   "source": [
    "ds=pd.read_csv('./Monthly_data_cmo.csv')"
   ]
  },
  {
   "cell_type": "code",
   "execution_count": 19,
   "metadata": {},
   "outputs": [
    {
     "name": "stdout",
     "output_type": "stream",
     "text": [
      "         APMC      Commodity  Year  Month  arrivals_in_qtl  min_price  \\\n",
      "0  Ahmednagar          Bajri  2015  April               79       1406   \n",
      "1  Ahmednagar          Bajri  2016  April              106       1788   \n",
      "2  Ahmednagar  Wheat(Husked)  2015  April             1253       1572   \n",
      "3  Ahmednagar  Wheat(Husked)  2016  April              387       1750   \n",
      "4  Ahmednagar  Sorgum(Jawar)  2015  April             3825       1600   \n",
      "\n",
      "   max_price  modal_price     date district_name   state_name  \n",
      "0       1538         1463  2015-04    Ahmadnagar  Maharashtra  \n",
      "1       1925         1875  2016-04    Ahmadnagar  Maharashtra  \n",
      "2       1890         1731  2015-04    Ahmadnagar  Maharashtra  \n",
      "3       2220         1999  2016-04    Ahmadnagar  Maharashtra  \n",
      "4       2200         1900  2015-04    Ahmadnagar  Maharashtra  \n"
     ]
    },
    {
     "data": {
      "text/plain": [
       "(62429, 11)"
      ]
     },
     "execution_count": 19,
     "metadata": {},
     "output_type": "execute_result"
    }
   ],
   "source": [
    "print(ds.head())\n",
    "ds.shape"
   ]
  },
  {
   "cell_type": "code",
   "execution_count": 20,
   "metadata": {},
   "outputs": [
    {
     "data": {
      "text/html": [
       "<div>\n",
       "<style scoped>\n",
       "    .dataframe tbody tr th:only-of-type {\n",
       "        vertical-align: middle;\n",
       "    }\n",
       "\n",
       "    .dataframe tbody tr th {\n",
       "        vertical-align: top;\n",
       "    }\n",
       "\n",
       "    .dataframe thead th {\n",
       "        text-align: right;\n",
       "    }\n",
       "</style>\n",
       "<table border=\"1\" class=\"dataframe\">\n",
       "  <thead>\n",
       "    <tr style=\"text-align: right;\">\n",
       "      <th></th>\n",
       "      <th>Year</th>\n",
       "      <th>arrivals_in_qtl</th>\n",
       "      <th>min_price</th>\n",
       "      <th>max_price</th>\n",
       "      <th>modal_price</th>\n",
       "    </tr>\n",
       "  </thead>\n",
       "  <tbody>\n",
       "    <tr>\n",
       "      <th>count</th>\n",
       "      <td>62429.000000</td>\n",
       "      <td>6.242900e+04</td>\n",
       "      <td>6.242900e+04</td>\n",
       "      <td>6.242900e+04</td>\n",
       "      <td>62429.000000</td>\n",
       "    </tr>\n",
       "    <tr>\n",
       "      <th>mean</th>\n",
       "      <td>2015.337503</td>\n",
       "      <td>6.043088e+03</td>\n",
       "      <td>2.945228e+03</td>\n",
       "      <td>3.688814e+03</td>\n",
       "      <td>3296.003989</td>\n",
       "    </tr>\n",
       "    <tr>\n",
       "      <th>std</th>\n",
       "      <td>0.690451</td>\n",
       "      <td>3.470331e+04</td>\n",
       "      <td>1.318396e+04</td>\n",
       "      <td>7.662962e+03</td>\n",
       "      <td>3607.792534</td>\n",
       "    </tr>\n",
       "    <tr>\n",
       "      <th>min</th>\n",
       "      <td>2014.000000</td>\n",
       "      <td>1.000000e+00</td>\n",
       "      <td>0.000000e+00</td>\n",
       "      <td>0.000000e+00</td>\n",
       "      <td>0.000000</td>\n",
       "    </tr>\n",
       "    <tr>\n",
       "      <th>25%</th>\n",
       "      <td>2015.000000</td>\n",
       "      <td>3.800000e+01</td>\n",
       "      <td>1.250000e+03</td>\n",
       "      <td>1.600000e+03</td>\n",
       "      <td>1450.000000</td>\n",
       "    </tr>\n",
       "    <tr>\n",
       "      <th>50%</th>\n",
       "      <td>2015.000000</td>\n",
       "      <td>2.110000e+02</td>\n",
       "      <td>1.976000e+03</td>\n",
       "      <td>2.797000e+03</td>\n",
       "      <td>2425.000000</td>\n",
       "    </tr>\n",
       "    <tr>\n",
       "      <th>75%</th>\n",
       "      <td>2016.000000</td>\n",
       "      <td>1.364000e+03</td>\n",
       "      <td>3.900000e+03</td>\n",
       "      <td>4.647000e+03</td>\n",
       "      <td>4257.000000</td>\n",
       "    </tr>\n",
       "    <tr>\n",
       "      <th>max</th>\n",
       "      <td>2016.000000</td>\n",
       "      <td>1.450254e+06</td>\n",
       "      <td>3.153038e+06</td>\n",
       "      <td>1.600090e+06</td>\n",
       "      <td>142344.000000</td>\n",
       "    </tr>\n",
       "  </tbody>\n",
       "</table>\n",
       "</div>"
      ],
      "text/plain": [
       "               Year  arrivals_in_qtl     min_price     max_price  \\\n",
       "count  62429.000000     6.242900e+04  6.242900e+04  6.242900e+04   \n",
       "mean    2015.337503     6.043088e+03  2.945228e+03  3.688814e+03   \n",
       "std        0.690451     3.470331e+04  1.318396e+04  7.662962e+03   \n",
       "min     2014.000000     1.000000e+00  0.000000e+00  0.000000e+00   \n",
       "25%     2015.000000     3.800000e+01  1.250000e+03  1.600000e+03   \n",
       "50%     2015.000000     2.110000e+02  1.976000e+03  2.797000e+03   \n",
       "75%     2016.000000     1.364000e+03  3.900000e+03  4.647000e+03   \n",
       "max     2016.000000     1.450254e+06  3.153038e+06  1.600090e+06   \n",
       "\n",
       "         modal_price  \n",
       "count   62429.000000  \n",
       "mean     3296.003989  \n",
       "std      3607.792534  \n",
       "min         0.000000  \n",
       "25%      1450.000000  \n",
       "50%      2425.000000  \n",
       "75%      4257.000000  \n",
       "max    142344.000000  "
      ]
     },
     "execution_count": 20,
     "metadata": {},
     "output_type": "execute_result"
    }
   ],
   "source": [
    "ds.describe()"
   ]
  },
  {
   "cell_type": "code",
   "execution_count": 21,
   "metadata": {},
   "outputs": [
    {
     "data": {
      "text/plain": [
       "APMC               0\n",
       "Commodity          0\n",
       "Year               0\n",
       "Month              0\n",
       "arrivals_in_qtl    0\n",
       "min_price          0\n",
       "max_price          0\n",
       "modal_price        0\n",
       "date               0\n",
       "district_name      0\n",
       "state_name         0\n",
       "dtype: int64"
      ]
     },
     "execution_count": 21,
     "metadata": {},
     "output_type": "execute_result"
    }
   ],
   "source": [
    "ds.isnull().sum()"
   ]
  },
  {
   "cell_type": "code",
   "execution_count": 22,
   "metadata": {},
   "outputs": [
    {
     "data": {
      "image/png": "[encoded data removed]",
      "text/plain": [
       "<Figure size 1296x648 with 1 Axes>"
      ]
     },
     "metadata": {
      "needs_background": "light"
     },
     "output_type": "display_data"
    }
   ],
   "source": [
    "plot1 = sb.boxplot(y=\"modal_price\", data=ds, whis=1.5)"
   ]
  },
  {
   "cell_type": "code",
   "execution_count": 23,
   "metadata": {},
   "outputs": [
    {
     "name": "stdout",
     "output_type": "stream",
     "text": [
      "2807.0\n"
     ]
    }
   ],
   "source": [
    "Qual1 = ds.modal_price.quantile(0.25)\n",
    "Qual3 = ds.modal_price.quantile(0.75)\n",
    "IQR = Qual3 - Qual1\n",
    "print(IQR)"
   ]
  },
  {
   "cell_type": "code",
   "execution_count": 24,
   "metadata": {},
   "outputs": [
    {
     "data": {
      "text/plain": [
       "0        1463\n",
       "1        1875\n",
       "2        1731\n",
       "3        1999\n",
       "4        1900\n",
       "5        2119\n",
       "6        1373\n",
       "7        1375\n",
       "8        3647\n",
       "9        5216\n",
       "10       7150\n",
       "11       7500\n",
       "12       5233\n",
       "13       7329\n",
       "14       5700\n",
       "15       7500\n",
       "16       3313\n",
       "17       3150\n",
       "18       3603\n",
       "19       3263\n",
       "20       5500\n",
       "21       2500\n",
       "22       1133\n",
       "23       3000\n",
       "24       2138\n",
       "25       1250\n",
       "26       5750\n",
       "27       5250\n",
       "28       2833\n",
       "29       1500\n",
       "         ... \n",
       "62399    1994\n",
       "62400    1771\n",
       "62401    1400\n",
       "62402    7949\n",
       "62403    5800\n",
       "62404    6419\n",
       "62405    1041\n",
       "62406     451\n",
       "62407    1272\n",
       "62408    1707\n",
       "62409    2314\n",
       "62410    1161\n",
       "62411    2529\n",
       "62412    1244\n",
       "62413    2009\n",
       "62414    2387\n",
       "62415    1313\n",
       "62416    6761\n",
       "62417    6275\n",
       "62418    4300\n",
       "62419    2650\n",
       "62420    1400\n",
       "62421    1800\n",
       "62422    1967\n",
       "62423    1267\n",
       "62424    6200\n",
       "62425    5000\n",
       "62426    6400\n",
       "62427    2633\n",
       "62428    3067\n",
       "Name: modal_price, Length: 59896, dtype: int64"
      ]
     },
     "execution_count": 24,
     "metadata": {},
     "output_type": "execute_result"
    }
   ],
   "source": [
    "ds.loc[ds['modal_price'] < (Qual1 - 1.5 * IQR), 'modal_price']\n",
    "ds.loc[~(ds['modal_price'] > (Qual3 + 1.5 * IQR)), 'modal_price']"
   ]
  },
  {
   "cell_type": "code",
   "execution_count": 25,
   "metadata": {},
   "outputs": [
    {
     "ename": "NameError",
     "evalue": "name 'monthly_data' is not defined",
     "output_type": "error",
     "traceback": [
      "\u001b[1;31m---------------------------------------------------------------------------\u001b[0m",
      "\u001b[1;31mNameError\u001b[0m                                 Traceback (most recent call last)",
      "\u001b[1;32m<ipython-input-25-91e33ed49779>\u001b[0m in \u001b[0;36m<module>\u001b[1;34m\u001b[0m\n\u001b[0;32m      1\u001b[0m \u001b[1;33m\u001b[0m\u001b[0m\n\u001b[1;32m----> 2\u001b[1;33m \u001b[0mmonthly_data\u001b[0m\u001b[1;33m[\u001b[0m\u001b[1;34m'date'\u001b[0m\u001b[1;33m]\u001b[0m \u001b[1;33m=\u001b[0m \u001b[0mpd\u001b[0m\u001b[1;33m.\u001b[0m\u001b[0mto_datetime\u001b[0m\u001b[1;33m(\u001b[0m\u001b[0mmonthly_data\u001b[0m\u001b[1;33m[\u001b[0m\u001b[1;34m'date'\u001b[0m\u001b[1;33m]\u001b[0m\u001b[1;33m)\u001b[0m\u001b[1;33m\u001b[0m\u001b[1;33m\u001b[0m\u001b[0m\n\u001b[0m\u001b[0;32m      3\u001b[0m \u001b[0mmonthly_data\u001b[0m\u001b[1;33m.\u001b[0m\u001b[0mindex\u001b[0m \u001b[1;33m=\u001b[0m \u001b[0mmonthly_data\u001b[0m\u001b[1;33m[\u001b[0m\u001b[1;34m'date'\u001b[0m\u001b[1;33m]\u001b[0m\u001b[1;33m\u001b[0m\u001b[1;33m\u001b[0m\u001b[0m\n\u001b[0;32m      4\u001b[0m \u001b[1;33m\u001b[0m\u001b[0m\n\u001b[0;32m      5\u001b[0m \u001b[1;31m#The data is not sorted by date and also the date is repetitive for each commodity for each apmc\u001b[0m\u001b[1;33m\u001b[0m\u001b[1;33m\u001b[0m\u001b[1;33m\u001b[0m\u001b[0m\n",
      "\u001b[1;31mNameError\u001b[0m: name 'monthly_data' is not defined"
     ]
    }
   ],
   "source": [
    "\n",
    "monthly_data['date'] = pd.to_datetime(monthly_data['date'])\n",
    "monthly_data.index = monthly_data['date']\n",
    "\n",
    "#The data is not sorted by date and also the date is repetitive for each commodity for each apmc\n",
    "monthly_data.sort_values(by='date', inplace=True)\n",
    "monthly_data.head()"
   ]
  },
  {
   "cell_type": "code",
   "execution_count": null,
   "metadata": {},
   "outputs": [],
   "source": []
  },
  {
   "cell_type": "code",
   "execution_count": null,
   "metadata": {},
   "outputs": [],
   "source": []
  }
 ],
 "metadata": {
  "kernelspec": {
   "display_name": "Python 3",
   "language": "python",
   "name": "python3"
  },
  "language_info": {
   "codemirror_mode": {
    "name": "ipython",
    "version": 3
   },
   "file_extension": ".py",
   "mimetype": "text/x-python",
   "name": "python",
   "nbconvert_exporter": "python",
   "pygments_lexer": "ipython3",
   "version": "3.7.2rc1"
  }
 },
 "nbformat": 4,
 "nbformat_minor": 2
}
